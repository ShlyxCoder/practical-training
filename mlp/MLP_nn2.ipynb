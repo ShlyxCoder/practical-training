{
 "cells": [
  {
   "cell_type": "code",
   "execution_count": null,
   "id": "initial_id",
   "metadata": {
    "collapsed": true,
    "jupyter": {
     "is_executing": true
    }
   },
   "outputs": [],
   "source": [
    "# 导入必要的库\n",
    "import torch\n",
    "from torch import nn\n",
    "from torch.utils.data import DataLoader\n",
    "from torchvision import datasets, transforms\n",
    "import matplotlib.pyplot as plt\n",
    "\n",
    "# 保证 matplotlib 在 notebook 中直接显示图形\n",
    "%matplotlib inline\n"
   ]
  },
  {
   "cell_type": "code",
   "execution_count": null,
   "id": "8d0aa56567a668d9",
   "metadata": {},
   "outputs": [],
   "source": [
    "# 1. 数据加载函数\n",
    "def load_data_mnist(batch_size):\n",
    "    transform = transforms.Compose([\n",
    "        transforms.ToTensor(),\n",
    "        transforms.Normalize((0.1307,), (0.3081,))\n",
    "    ])\n",
    "\n",
    "    train_data = datasets.MNIST('./data', train=True, download=True, transform=transform)\n",
    "    test_data = datasets.MNIST('./data', train=False, download=True, transform=transform)\n",
    "\n",
    "    return (\n",
    "        DataLoader(train_data, batch_size, shuffle=True, num_workers=2),\n",
    "        DataLoader(test_data, batch_size, shuffle=False, num_workers=2)\n",
    "    )\n"
   ]
  },
  {
   "cell_type": "code",
   "execution_count": null,
   "id": "8689c1560f131213",
   "metadata": {},
   "outputs": [],
   "source": [
    "# 2. 定义模型类\n",
    "class SimpleNN(nn.Module):\n",
    "    def __init__(self):\n",
    "        super().__init__()\n",
    "        self.net = nn.Sequential(\n",
    "            nn.Flatten(),  # 自动将输入展平\n",
    "            nn.Linear(784, 256),\n",
    "            nn.ReLU(),\n",
    "            nn.Linear(256, 10)\n",
    "        )\n",
    "        # 初始化权重\n",
    "        self._init_weights()\n",
    "    \n",
    "    def _init_weights(self):\n",
    "        def init(m):\n",
    "            if isinstance(m, nn.Linear):\n",
    "                nn.init.normal_(m.weight, std=0.01)\n",
    "                if m.bias is not None:\n",
    "                    nn.init.zeros_(m.bias)\n",
    "        self.net.apply(init)\n",
    "\n",
    "    def forward(self, X):\n",
    "        return self.net(X)\n"
   ]
  },
  {
   "cell_type": "code",
   "execution_count": null,
   "id": "13982e68fb09963d",
   "metadata": {},
   "outputs": [],
   "source": [
    "# 3. 训练函数\n",
    "def train_model(net, train_iter, test_iter, num_epochs=10, lr=0.1):\n",
    "    optimizer = torch.optim.SGD(net.parameters(), lr=lr)\n",
    "    criterion = nn.CrossEntropyLoss()\n",
    "\n",
    "    train_loss_list, train_acc_list, test_acc_list = [], [], []\n",
    "\n",
    "    for epoch in range(num_epochs):\n",
    "        net.train()\n",
    "        total_loss, total_correct = 0, 0\n",
    "\n",
    "        for X, y in train_iter:\n",
    "            optimizer.zero_grad()\n",
    "            output = net(X)\n",
    "            loss = criterion(output, y)\n",
    "            loss.backward()\n",
    "            optimizer.step()\n",
    "\n",
    "            total_loss += loss.item()\n",
    "            total_correct += (output.argmax(1) == y).sum().item()\n",
    "\n",
    "        train_loss = total_loss / len(train_iter)\n",
    "        train_acc = total_correct / len(train_iter.dataset)\n",
    "\n",
    "        net.eval()\n",
    "        test_correct = 0\n",
    "        with torch.no_grad():\n",
    "            for X, y in test_iter:\n",
    "                test_correct += (net(X).argmax(1) == y).sum().item()\n",
    "        test_acc = test_correct / len(test_iter.dataset)\n",
    "\n",
    "        train_loss_list.append(train_loss)\n",
    "        train_acc_list.append(train_acc)\n",
    "        test_acc_list.append(test_acc)\n",
    "\n",
    "        print(f'Epoch {epoch + 1}: Train Loss: {train_loss:.4f}, Acc: {train_acc:.3f} | Test Acc: {test_acc:.3f}')\n",
    "\n",
    "    # 可视化\n",
    "    plt.figure(figsize=(12, 4))\n",
    "    plt.subplot(1, 2, 1)\n",
    "    plt.plot(train_loss_list, label='Train Loss')\n",
    "    plt.xlabel('Epoch')\n",
    "    plt.legend()\n",
    "\n",
    "    plt.subplot(1, 2, 2)\n",
    "    plt.plot(train_acc_list, label='Train Acc')\n",
    "    plt.plot(test_acc_list, label='Test Acc')\n",
    "    plt.xlabel('Epoch')\n",
    "    plt.legend()\n",
    "\n",
    "    plt.tight_layout()\n",
    "    plt.show()\n"
   ]
  },
  {
   "cell_type": "code",
   "execution_count": null,
   "id": "41be2cd384323207",
   "metadata": {
    "jupyter": {
     "is_executing": true
    }
   },
   "outputs": [],
   "source": [
    "# 4. 设置随机种子，加载数据，实例化模型并训练\n",
    "torch.manual_seed(42)\n",
    "\n",
    "batch_size = 256\n",
    "num_epochs = 10\n",
    "lr = 0.1\n",
    "\n",
    "train_iter, test_iter = load_data_mnist(batch_size)\n",
    "model = SimpleNN()\n",
    "train_model(model, train_iter, test_iter, num_epochs, lr)\n"
   ]
  }
 ],
 "metadata": {
  "kernelspec": {
   "display_name": "Python 3",
   "language": "python",
   "name": "python3"
  },
  "language_info": {
   "codemirror_mode": {
    "name": "ipython",
    "version": 3
   },
   "file_extension": ".py",
   "mimetype": "text/x-python",
   "name": "python",
   "nbconvert_exporter": "python",
   "pygments_lexer": "ipython3",
   "version": "3.7.0"
  }
 },
 "nbformat": 4,
 "nbformat_minor": 5
}
